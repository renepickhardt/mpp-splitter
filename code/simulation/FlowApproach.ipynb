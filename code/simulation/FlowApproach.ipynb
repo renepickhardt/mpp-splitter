{
 "cells": [
  {
   "cell_type": "code",
   "execution_count": 1,
   "metadata": {},
   "outputs": [],
   "source": [
    "import json\n",
    "import networkx as nx\n",
    "import random\n",
    "import matplotlib.pyplot as plt\n",
    "import math\n",
    "log = math.log2"
   ]
  },
  {
   "cell_type": "code",
   "execution_count": 124,
   "metadata": {},
   "outputs": [],
   "source": [
    "def import_channel_graph():\n",
    "    # retrieve this by: lightning-cli listchannels > listchannels.json\n",
    "    f = open(\"listchannels.json\")\n",
    "    jsn = json.load(f)\n",
    "    G = nx.Graph()\n",
    "    for channel in jsn[\"channels\"]:\n",
    "        src = channel[\"source\"]\n",
    "        dest = channel[\"destination\"]\n",
    "        cap = int(int(channel[\"satoshis\"])/1000)\n",
    "        sid = channel[\"short_channel_id\"]\n",
    "        G.add_edge(src,dest,weight=cap,sid=sid)\n",
    "    return G\n",
    "\n",
    "channel_graph = import_channel_graph()"
   ]
  },
  {
   "cell_type": "code",
   "execution_count": 125,
   "metadata": {},
   "outputs": [],
   "source": [
    "channel_graph = nx.Graph()\n",
    "channel_graph.add_edge(\"S\",\"A\",capacity=2)\n",
    "#channel_graph.add_edge(\"A0\",\"A\",capacity=2)\n",
    "channel_graph.add_edge(\"S\",\"X\",capacity=1)\n",
    "channel_graph.add_edge(\"A\",\"B\",capacity=2)\n",
    "channel_graph.add_edge(\"X\",\"B\",capacity=9)\n",
    "channel_graph.add_edge(\"X\",\"Y\",capacity=7)\n",
    "channel_graph.add_edge(\"Y\",\"D\",capacity=4)\n",
    "channel_graph.add_edge(\"B\",\"D\",capacity=4)\n"
   ]
  },
  {
   "cell_type": "code",
   "execution_count": 126,
   "metadata": {},
   "outputs": [
    {
     "data": {
      "text/plain": [
       "(11, ({'A', 'B', 'D', 'S', 'X'}, {'Y'}))"
      ]
     },
     "execution_count": 126,
     "metadata": {},
     "output_type": "execute_result"
    }
   ],
   "source": [
    "nx.minimum_cut(channel_graph, \"B\", \"Y\")"
   ]
  },
  {
   "cell_type": "code",
   "execution_count": 149,
   "metadata": {},
   "outputs": [],
   "source": [
    "def generate_null_flow(channel_graph):\n",
    "    flow = {n:{} for n in channel_graph.nodes()}\n",
    "    for u,v in channel_graph.edges():\n",
    "        flow[u][v]=0\n",
    "        flow[v][u]=0\n",
    "    return flow\n",
    "\n",
    "def compute_flow_amount(flow,src):\n",
    "    return sum(v for k,v in flow[src].items())\n",
    "\n",
    "def compute_probability_of_flow(flow, channel_graph):\n",
    "    res = 1\n",
    "    for u,v in channel_graph.edges():\n",
    "        capacity = channel_graph[u][v][\"capacity\"]\n",
    "        forward = flow[u][v]\n",
    "        backward = flow[v][u]\n",
    "        prob = (capacity+1-abs(forward-backward))/(capacity+1)\n",
    "        res*=prob\n",
    "    return res\n",
    "            \n",
    "#tricky because of directions but it shouldn't be too hard\n",
    "def compute_residual_graph(channel_graph,flow,amt):\n",
    "    residual = nx.DiGraph()\n",
    "    for u,v in channel_graph.edges():\n",
    "        forward_flow = flow[u][v]\n",
    "        backward_flow = flow[v][u]\n",
    "        channel_capacity = channel_graph[u][v][\"capacity\"]\n",
    "        \n",
    "        if forward_flow > 0 and backward_flow > 0:\n",
    "            settle = min(forward_flow, backward_flow)\n",
    "            flow[u][v]-=settle\n",
    "            forward_flow -= settle\n",
    "            flow[v][u]-=settle\n",
    "            backward_flow -= settle\n",
    "        \n",
    "        \n",
    "        if forward_flow == 0 and backward_flow == 0 and amt <= channel_capacity:\n",
    "            prob = (channel_capacity + 1 - amt)/(channel_capacity + 1)\n",
    "            residual.add_edge(u,v,weight=-1*log(prob))\n",
    "            residual.add_edge(v,u,weight=-1*log(prob))\n",
    "        else:\n",
    "            if forward_flow > 0:\n",
    "                #P(X >= f + amt | X >= f) = (c+1-f-a)/(c+1-f)\n",
    "                if forward_flow+amt <= channel_capacity:\n",
    "                    prob = (channel_capacity + 1 - forward_flow - amt) / (channel_capacity - forward_flow + 1)\n",
    "                    residual.add_edge(u,v,weight=-1*log(prob))\n",
    "                if amt <= forward_flow:\n",
    "                    # 1/ P(X>=f | X >= f - amt) = (c+1-f)/(c+1-f+a)\n",
    "                    inverse_prob = (channel_capacity+1-forward_flow + amt)/(channel_capacity+1-forward_flow)\n",
    "                    residual.add_edge(v,u,weight=-log(inverse_prob))\n",
    "            elif backward_flow > 0:\n",
    "                if backward_flow + amt <= channel_capacity:\n",
    "                    prob = (channel_capacity - backward_flow + 1 - amt)/(channel_capacity + 1 - backward_flow)\n",
    "                    residual.add_edge(v,u,weight=-log(prob))\n",
    "                if amt <= backward_flow:\n",
    "                    # 1/ P(X>=f | X >= f - amt) = (c+1-f)/(c+1-f+a)\n",
    "                    inverse_prob = (channel_capacity+1-backward_flow+amt)/(channel_capacity+1-backward_flow)\n",
    "                    residual.add_edge(u,v,weight=-log(inverse_prob))\n",
    "    return residual\n",
    "                "
   ]
  },
  {
   "cell_type": "code",
   "execution_count": 150,
   "metadata": {},
   "outputs": [],
   "source": [
    "def next_hop(path):\n",
    "    for i in range(1,len(path)):\n",
    "        src = path[i-1]\n",
    "        dest = path[i]\n",
    "        yield (src,dest)\n",
    "        \n",
    "def update_flow(flow,path,amt):\n",
    "    for src,dest in next_hop(path):\n",
    "        flow[src][dest]+=amt\n",
    "\n",
    "def print_flow(flow):\n",
    "    for src, value in flow.items():\n",
    "        for dest, f in value.items():\n",
    "            if f > 0:\n",
    "                print(src,dest,f)\n",
    "        \n",
    "#update_flow(flow,path,1)"
   ]
  },
  {
   "cell_type": "code",
   "execution_count": 153,
   "metadata": {
    "scrolled": false
   },
   "outputs": [
    {
     "name": "stdout",
     "output_type": "stream",
     "text": [
      "1.0\n",
      "S A 0.6666666666666666\n",
      "S X 0.5\n",
      "A S 0.6666666666666666\n",
      "A B 0.6666666666666666\n",
      "X S 0.5\n",
      "X B 0.9\n",
      "X Y 0.875\n",
      "B A 0.6666666666666666\n",
      "B X 0.9\n",
      "B D 0.8\n",
      "Y X 0.875\n",
      "Y D 0.8\n",
      "D B 0.8\n",
      "D Y 0.8\n",
      "['S', 'X', 'B', 'D']\n",
      "S X 1\n",
      "X B 1\n",
      "B D 1\n",
      "0.36000000000000004\n",
      "S A 0.6666666666666666\n",
      "A S 0.6666666666666666\n",
      "A B 0.6666666666666666\n",
      "X S 2.0\n",
      "X B 0.8888888888888888\n",
      "X Y 0.875\n",
      "B A 0.6666666666666666\n",
      "B X 1.1111111111111112\n",
      "B D 0.75\n",
      "Y X 0.875\n",
      "Y D 0.8\n",
      "D B 1.25\n",
      "D Y 0.8\n",
      "['S', 'A', 'B', 'X', 'Y', 'D']\n",
      "S A 1\n",
      "S X 1\n",
      "A B 1\n",
      "X B 1\n",
      "X Y 1\n",
      "B X 1\n",
      "B D 1\n",
      "Y D 1\n",
      "0.12444444444444445\n",
      "S A 0.5\n",
      "A S 1.5\n",
      "A B 0.5\n",
      "X S 2.0\n",
      "X B 0.9\n",
      "X Y 0.8571428571428571\n",
      "B A 1.5\n",
      "B X 0.9\n",
      "B D 0.75\n",
      "Y X 1.1428571428571428\n",
      "Y D 0.75\n",
      "D B 1.25\n",
      "D Y 1.25\n",
      "['S', 'A', 'B', 'D']\n",
      "S A 2\n",
      "S X 1\n",
      "A B 2\n",
      "X Y 1\n",
      "B D 2\n",
      "Y D 1\n",
      "0.02333333333333333\n"
     ]
    }
   ],
   "source": [
    "S = \"S\"\n",
    "D = \"D\"\n",
    "\n",
    "flow=generate_null_flow(channel_graph)\n",
    "print(compute_probability_of_flow(flow,channel_graph))\n",
    "    \n",
    "for a in range(1,nx.minimum_cut(channel_graph, S, D)[0]+1):\n",
    "    res = compute_residual_graph(channel_graph,flow,1)\n",
    "    for u,v in res.edges():\n",
    "        print(u,v,2**-res[u][v][\"weight\"])\n",
    "    path = nx.bellman_ford_path(res,S,D,weight=\"weight\")\n",
    "    print(path)\n",
    "    update_flow(flow,path,1)\n",
    "    print_flow(flow)\n",
    "    print(compute_probability_of_flow(flow,channel_graph))\n"
   ]
  },
  {
   "cell_type": "code",
   "execution_count": null,
   "metadata": {},
   "outputs": [],
   "source": []
  },
  {
   "cell_type": "code",
   "execution_count": null,
   "metadata": {},
   "outputs": [],
   "source": []
  },
  {
   "cell_type": "code",
   "execution_count": 46,
   "metadata": {},
   "outputs": [
    {
     "name": "stdout",
     "output_type": "stream",
     "text": [
      "S A 0.6666666666666666\n",
      "S X 0.5\n",
      "A S 0.6666666666666666\n",
      "A B 0.6666666666666666\n",
      "X S 0.5\n",
      "X B 0.99\n",
      "X Y 0.875\n",
      "B A 0.6666666666666666\n",
      "B X 0.99\n",
      "B D 0.8\n",
      "Y X 0.875\n",
      "Y D 0.8\n",
      "D B 0.8\n",
      "D Y 0.8\n"
     ]
    }
   ],
   "source": [
    "for u,v in res.edges():\n",
    "    print(u,v,2**-res[u][v][\"weight\"])"
   ]
  },
  {
   "cell_type": "code",
   "execution_count": 47,
   "metadata": {},
   "outputs": [],
   "source": []
  },
  {
   "cell_type": "code",
   "execution_count": null,
   "metadata": {},
   "outputs": [],
   "source": [
    "res = 1\n",
    "for s,d in path:\n",
    "    res*="
   ]
  }
 ],
 "metadata": {
  "kernelspec": {
   "display_name": "Python 3",
   "language": "python",
   "name": "python3"
  },
  "language_info": {
   "codemirror_mode": {
    "name": "ipython",
    "version": 3
   },
   "file_extension": ".py",
   "mimetype": "text/x-python",
   "name": "python",
   "nbconvert_exporter": "python",
   "pygments_lexer": "ipython3",
   "version": "3.6.10"
  }
 },
 "nbformat": 4,
 "nbformat_minor": 2
}
