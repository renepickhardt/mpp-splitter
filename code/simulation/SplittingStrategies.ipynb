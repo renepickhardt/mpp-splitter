{
 "cells": [
  {
   "cell_type": "markdown",
   "metadata": {},
   "source": [
    "Author: Rene Pickhardt\n",
    "\n",
    "This notebook investigates several things: \n",
    "\n",
    "* [Done] how often and far does the max_flow / min_cut diviate from the payment pairs existing incoming and outgoing liquidity \n",
    "* [X] Given a twosplit what is the best split ratio? \n",
    "* [X] How do various discussed splitting strategies behave?"
   ]
  },
  {
   "cell_type": "code",
   "execution_count": 32,
   "metadata": {},
   "outputs": [],
   "source": [
    "import json\n",
    "import networkx as nx\n",
    "import random\n",
    "import matplotlib.pyplot as plt"
   ]
  },
  {
   "cell_type": "markdown",
   "metadata": {},
   "source": [
    "## Setup and data import"
   ]
  },
  {
   "cell_type": "code",
   "execution_count": 7,
   "metadata": {},
   "outputs": [],
   "source": [
    "def import_channel_graph():\n",
    "    # retrieve this by: lightning-cli listchannels > listchannels.json\n",
    "    f = open(\"listchannels.json\")\n",
    "    jsn = json.load(f)\n",
    "    G = nx.Graph()\n",
    "    for channel in jsn[\"channels\"]:\n",
    "        src = channel[\"source\"]\n",
    "        dest = channel[\"destination\"]\n",
    "        cap = int(channel[\"satoshis\"])\n",
    "        G.add_edge(src,dest,cap=cap)\n",
    "    return G\n",
    "\n",
    "channel_graph = import_channel_graph()"
   ]
  },
  {
   "cell_type": "code",
   "execution_count": 46,
   "metadata": {},
   "outputs": [],
   "source": [
    "def create_balanced_graph(channel_graph,p=0):\n",
    "    \"\"\"p is the probability that the channel is onsided. Thus the default p=0 creates a uniform distribution\"\"\"\n",
    "    funded_network = nx.DiGraph()\n",
    "    for src,dest in channel_graph.edges():\n",
    "        cap = channel_graph[src][dest][\"cap\"]\n",
    "        bal = None\n",
    "        if random.random()>=p:\n",
    "            bal = random.randint(0,cap)\n",
    "        else:\n",
    "            if random.random()>0.5:\n",
    "                bal=0\n",
    "            else:\n",
    "                bal=cap\n",
    "        funded_network.add_edge(src,dest,cap=cap,capacity=bal)\n",
    "        funded_network.add_edge(dest,src,cap=cap,capacity=cap-bal)\n",
    "    return funded_network\n",
    "    \n",
    "funded_network = create_balanced_graph(channel_graph,p=0.3)"
   ]
  },
  {
   "cell_type": "code",
   "execution_count": 47,
   "metadata": {},
   "outputs": [],
   "source": [
    "nodes = set(funded_network.nodes)"
   ]
  },
  {
   "cell_type": "markdown",
   "metadata": {},
   "source": [
    "## Experiment 1: Max Flow vs payment pairs local view: \n",
    "\n",
    "We assume a receiving node will not issue an invoice larger than the amount of satoshis it can theoretically receive. Similarly we assume a sending node will not try to pay an invoice if it does not have enough funds to do so. \n",
    "\n",
    "We want to see how ofter the maxflow is actually constrained by these two numbers given\n",
    "\n",
    "* the actual channelGraph with real capacities\n",
    "* a uniform distribution of balances (as measured before globally)"
   ]
  },
  {
   "cell_type": "code",
   "execution_count": 48,
   "metadata": {},
   "outputs": [],
   "source": [
    "def compute_inbound(funded_network,node): \n",
    "    res = 0\n",
    "    for n in funded_network.neighbors(node): \n",
    "        res += funded_network[n][node][\"capacity\"]\n",
    "    return res\n",
    "\n",
    "def compute_outbound(funded_network,node): \n",
    "    res = 0\n",
    "    for n in funded_network.neighbors(node): \n",
    "        res += funded_network[node][n][\"capacity\"]\n",
    "    return res\n"
   ]
  },
  {
   "cell_type": "code",
   "execution_count": 55,
   "metadata": {
    "scrolled": true
   },
   "outputs": [],
   "source": [
    "def create_samples(n=3600,p=0):\n",
    "    res1 = []\n",
    "    for i in range(n):\n",
    "        payment_pair = random.sample(nodes,2)\n",
    "        src, dest = payment_pair\n",
    "        cut_value, partition = nx.minimum_cut(funded_network, src, dest)\n",
    "        reachable, non_reachable = partition\n",
    "        outbound = compute_outbound(funded_network,src)\n",
    "        inbound = compute_inbound(funded_network, dest)\n",
    "        print(src[:10],dest[:10], cut_value, outbound, inbound)\n",
    "        lim = min(outbound,inbound)\n",
    "        if lim==0: \n",
    "            res1.append(1.0)\n",
    "        else:\n",
    "            res1.append(cut_value/lim)\n",
    "        if len(res1)%100 ==0:\n",
    "            print(len(res1))\n",
    "    return res1"
   ]
  },
  {
   "cell_type": "code",
   "execution_count": null,
   "metadata": {
    "scrolled": true
   },
   "outputs": [
    {
     "name": "stdout",
     "output_type": "stream",
     "text": [
      "03dd15edf1 0208b5c70e 7081021 21887537 7129434\n",
      "03db495a7b 0206507b73 91538 91538 1054454\n",
      "03225e307f 0379ed1af3 40079 40079 680120\n",
      "02b526c37f 03a4761d92 367208 893904 367208\n",
      "03c1a8ccc5 021a0266be 893461 42555078 893461\n",
      "0201fa3ecc 02a02b4987 26596 26596 1505695\n",
      "033a83907e 0295bd0f3e 198299 11047841 198299\n",
      "02c10e0f0b 02c197ffa4 569923 569923 60969242\n",
      "03ee59428b 03c26d296e 0 63216 0\n",
      "032e3a79dc 021bb42fe0 196126 21873751 196126\n",
      "0254a73472 02685697ab 1555684 8451150 1555684\n",
      "03a46347ce 0321146f89 0 347427 0\n",
      "0333275459 02d21c4174 66623 66623 1366596\n",
      "037041db9f 037bac010f 65295 163438 65295\n",
      "03a6680e79 03e1300ab2 531031 5442973 560516\n",
      "0327e3eed8 03ad6cd751 67914 67914 3674054\n",
      "025bff93c8 022769c275 187377 187377 387469\n",
      "03f9ceb115 03594eabc9 238795 2183728 238795\n",
      "034a1a1c49 02749ad485 28727 2619063 28727\n",
      "02355a8815 02f9b694a7 65085 65085 515841\n",
      "03114576a6 02c6c35635 0 37191 0\n",
      "029bf3edd7 02c4748d7a 5846 9407776 5846\n",
      "022b8ece90 03e9725720 4257327 5000000 4257327\n",
      "023c9a852c 024a3af80c 370044 370044 7048470\n",
      "02f0eb41b5 03493cf958 42907 305558 42907\n",
      "0396885c5f 0250906602 8254 13267 8254\n",
      "03da650468 025d4c1f22 80709 15078524 80709\n",
      "0314cf6208 022f05827b 33931 394139 33931\n",
      "02ea89e098 02238ad6b0 29744 29744 10000000\n",
      "03081d8828 02aa835572 534131 534131 599272\n",
      "03c74a084d 03735e1494 208973 263464 208973\n",
      "02138938ae 03af1951d5 3514 480246 3514\n",
      "026e7f745f 02182d5868 43924 120000 43924\n",
      "0314da85ec 020b6124e0 403136 19235808 403136\n",
      "03244e3ee0 0252dd005f 481285 3681099 481285\n",
      "0250370b96 025ae40275 49210 49210 3350918\n",
      "02d4a6d484 02cc40fe49 117327 117327 6100302\n",
      "024485b231 026162d877 40586 3272330 40586\n",
      "02628d8e2f 03ec1207f3 19789 19741535 19789\n",
      "025a707994 02918550f9 16705 16705 147428\n",
      "02236818bd 03abc1e4a0 371207 960808 371207\n",
      "025b32be8c 0334f02381 70702 70702 99203\n",
      "031ed3942c 024b9919d7 27174 93199 27174\n",
      "03c26d296e 024a95d4db 30000 30000 443881\n",
      "02704226ed 02b9bf30f8 0 29123 0\n",
      "038e45be38 0331feaa48 509622 509622 1450711\n",
      "03b09bfc31 02b81dc46f 219425 219425 1718776\n",
      "026844fe6d 03e5c215cd 48599 9162747 48599\n",
      "02088f705d 03a4095652 220290 220290 957939\n",
      "03f6b63bb0 030c3f19d7 89728 89728 1444060539\n",
      "034e2eac9f 0358327cb8 0 0 132801582\n",
      "03d79d9fec 03b25a9a4a 0 1202876 0\n",
      "03d2b5129a 030c3f19d7 3190912 3190912 1444060539\n",
      "03187d5dde 031a020811 22267 5561204 22267\n",
      "03b9aacb26 03eb0f6f9a 68436 2558782 68436\n",
      "02a19661e7 02dbf16547 489516 9784325 489516\n",
      "0213028043 0387c4d5b2 71337 9532101 71337\n",
      "02de538522 03788bab8b 212547 975007 212547\n",
      "03154ba72d 020313a875 578420 8972503 578420\n",
      "02631a7999 0205fe16bb 71023 71023 298457\n",
      "02ea7041bb 03b9e60201 17355 100000 17355\n",
      "02109b8fe2 0247de1e41 0 0 176158\n",
      "02347645c9 02bc18a68d 28832 28832 95803\n",
      "0232c9cdca 02a13a6713 91248 1410347 91248\n",
      "026b2da097 03a27a5e28 60010 60010 1683766\n",
      "02563080a3 03c2b5e971 723543 723543 90194349\n",
      "022e56667f 03cf0f690b 100000 100000 833166\n",
      "025a440d73 022b213281 0 0 23611876\n",
      "03230b52ed 03c3fd5d31 49198 49198 362685\n",
      "0356f97bf6 0202bbe578 0 0 47811\n",
      "026ba13a7a 03f14237bb 668550 668550 3634351\n",
      "03ec34cdaf 03db495a7b 8462 77653 8462\n",
      "038770749f 0349dfadee 324008 617357 324008\n",
      "0249b0e7f9 036797939d 1563 208704 1563\n",
      "03b5dfe47a 024e174682 0 0 0\n",
      "03e977c68e 0299acd522 66499 66499 84153\n",
      "032ce1f970 03c02f154a 58000 58000 100000\n",
      "0251da1681 0325dbaf76 284787 284787 727433\n",
      "02645d48c4 030726b77c 25355 25355 89897\n",
      "030794cbbe 027703be24 240000 240000 241376\n",
      "02e5c540ba 036584167c 267103 714709 267103\n",
      "02001828ca 03931518c1 31131 31131 55285\n",
      "0296b40930 037bbeab7a 62978 192773 62978\n",
      "022cb0d50f 02f0940b4c 214224 218689 214224\n",
      "03233712eb 03f808dc9c 6557 6557 24350\n",
      "02d52b9552 02e86e4674 147313 232190 1777638\n",
      "03e1300ab2 03adee7f4d 0 400548 7746\n",
      "037097e579 0325b1fc18 1962522 2301768 1962522\n",
      "02963d1d5f 0325dbaf76 727433 6424376 727433\n",
      "0284e30f57 02241e1d48 89228 89228 959715\n",
      "023b78482f 03cb93e691 15638 200507 15638\n",
      "0395e11830 0302dcdbf9 80000 80000 300000\n",
      "034e1ab0de 02e1326814 40735 40735 451658\n",
      "038a02e301 02de60d194 31675 31675 25581473\n",
      "03ba97b0e0 020e9cacb7 329406 3947409 329406\n",
      "0288f092ea 02b74b04bd 85468 85468 1341718\n",
      "02e7b39c55 0203af5867 0 0 4133969\n",
      "03f4a75792 03cf0f690b 833166 5425182 833166\n",
      "034c92d0b5 0292938950 4279 39701 4279\n",
      "02c51abdcc 029707c088 238194 238194 3148516\n",
      "100\n",
      "02e6479366 02f436be0b 259340 6543473 259340\n",
      "03702d1794 034bcc649f 0 520613 0\n",
      "03ce3e749a 036a073aa4 59402 3210751 59402\n",
      "02b6c8e0d4 02ec5c61cf 7547 595822 7547\n",
      "03fcf9e536 02a5a95669 9267169 9267169 24268476\n",
      "02ce5b4507 0215c209e0 59161 1833926 59161\n",
      "033ac45614 0307c952e4 210561 5185410 210561\n",
      "03df199057 03cb24c315 431857 431857 3149635\n",
      "039d510570 03d0087b71 3214822 3214822 40834222\n",
      "0367e3500c 03b8e5d52c 24466 24466 67141\n",
      "03e0f68fec 02bd4cdff5 0 610023 0\n",
      "02a9eb7094 02c6052233 250000 5281796 250000\n",
      "03d116099b 035b0f4060 861987 861987 3256246\n",
      "035adf2337 0312e759a4 27189 27189 54509\n",
      "0284d7227b 036c96deeb 46259 46259 134153\n",
      "025c11a544 033dc7ebdf 278131 413475 278131\n",
      "024b62425a 025db7fedf 12392 195452 12392\n",
      "0360836e51 0227646082 416305 416305 616832\n",
      "03945a8a49 02d51bd828 326693 500510 326693\n",
      "03e6cf7eb4 02d88b7d98 171909 171909 2254428\n",
      "028a8114b4 035045d2e9 1161 1161 100000\n",
      "02ae3c06f6 024ba3b889 562883 562883 5219071\n",
      "0266d3b32f 03df199057 7015 7015 498227\n",
      "03244985c4 03514b4c54 0 0 244401\n",
      "02a842a02f 03eb191151 1973 1973 386870\n",
      "03dce08515 03177879e8 1199723 1844817 1199723\n",
      "027469c8fb 0384f3b719 624 624 313920\n",
      "02ec378c56 02887a435f 9596 45109 9596\n",
      "03828307e4 032658fa3a 13003 922418 13003\n",
      "028fcf3353 02ee701cdc 1996401 16456522 1996401\n"
     ]
    }
   ],
   "source": [
    "def create_frequency_timeseries(res):\n",
    "    # Attention we might have sampled the same payment pair twice!\n",
    "    f=0\n",
    "    frequencies = []\n",
    "    for k,x in enumerate(reversed(res)):\n",
    "        if x < 1.0:\n",
    "            f+=1\n",
    "        frequencies.append(f/(k+1))\n",
    "    print(f/len(res), f, len(res))\n",
    "    return frequencies\n",
    "frequencies_uniform_model = create_frequency_timeseries(create_samples(3600,0))\n",
    "frequencies_mixed_model = create_frequency_timeseries(create_samples(3600,0.3))"
   ]
  },
  {
   "cell_type": "code",
   "execution_count": 58,
   "metadata": {},
   "outputs": [
    {
     "data": {
      "image/png": "[encoded data removed]",
      "text/plain": [
       "<matplotlib.figure.Figure at 0xa227837f0>"
      ]
     },
     "metadata": {},
     "output_type": "display_data"
    },
    {
     "name": "stdout",
     "output_type": "stream",
     "text": [
      "0.05611111111111111 0.04861111111111111\n"
     ]
    }
   ],
   "source": [
    "plt.figure(figsize=(8,6))\n",
    "plt.title(\"Fraction of payment pairs with lower min_cut values than min{outliquidity(src),inliquidity(dest)}\")\n",
    "plt.plot(frequencies_uniform_model,label=\"uniform distribution of balances\")\n",
    "plt.plot(frequencies_mixed_model,label=\"mixed model distribution of balances (p=0.3)\")\n",
    "\n",
    "plt.grid()\n",
    "plt.xlabel(\"Number of sampled payment pairs\")\n",
    "plt.ylabel(\"fraction of lower min_cut values\")\n",
    "plt.legend()\n",
    "#plt.savefig(\"../../paper/img/max_flow_fraction.png\")\n",
    "plt.show()\n",
    "\n",
    "print(f_mixed_model[-1], frequencys[-1])"
   ]
  },
  {
   "cell_type": "code",
   "execution_count": null,
   "metadata": {},
   "outputs": [],
   "source": []
  },
  {
   "cell_type": "markdown",
   "metadata": {},
   "source": [
    "## Experiment 2: optimal splitting ratio\n",
    "\n",
    "We want to emperically estimate the expected number of attempts needed for various splitting ratios. This is to test the hypothesis that an equidistant splitting for multipart payments works best"
   ]
  },
  {
   "cell_type": "code",
   "execution_count": 28,
   "metadata": {},
   "outputs": [],
   "source": [
    "## TODO next"
   ]
  },
  {
   "cell_type": "markdown",
   "metadata": {},
   "source": [
    "## Experiment 3: various splitting strategies\n",
    "\n",
    "we want to test at least three splitting strategies\n",
    "\n",
    "### Proposed greedy strategy: \n",
    "* compute the theoretic optimal split\n",
    "* send out onions\n",
    "* merge failed onions\n",
    "* update knowledge of the graph\n",
    "* repeat with the remaining amount\n",
    "\n",
    "## c-lightning split\n",
    "* do 10 attempts\n",
    "* split in half\n",
    "* repeat each half \n",
    "\n",
    "## Binary splitter\n",
    "* not clear how to implement"
   ]
  },
  {
   "cell_type": "code",
   "execution_count": null,
   "metadata": {},
   "outputs": [],
   "source": []
  }
 ],
 "metadata": {
  "kernelspec": {
   "display_name": "Python 3",
   "language": "python",
   "name": "python3"
  },
  "language_info": {
   "codemirror_mode": {
    "name": "ipython",
    "version": 3
   },
   "file_extension": ".py",
   "mimetype": "text/x-python",
   "name": "python",
   "nbconvert_exporter": "python",
   "pygments_lexer": "ipython3",
   "version": "3.6.10"
  }
 },
 "nbformat": 4,
 "nbformat_minor": 2
}
