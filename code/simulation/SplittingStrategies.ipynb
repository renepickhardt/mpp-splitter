{
 "cells": [
  {
   "cell_type": "markdown",
   "metadata": {},
   "source": [
    "Author: Rene Pickhardt\n",
    "\n",
    "This notebook investigates several things: \n",
    "\n",
    "* [Done] how often and far does the max_flow / min_cut diviate from the payment pairs existing incoming and outgoing liquidity \n",
    "* [X] Given a twosplit what is the best split ratio? \n",
    "* [X] How do various discussed splitting strategies behave?"
   ]
  },
  {
   "cell_type": "code",
   "execution_count": 11,
   "metadata": {},
   "outputs": [],
   "source": [
    "import json\n",
    "import networkx as nx\n",
    "import random"
   ]
  },
  {
   "cell_type": "markdown",
   "metadata": {},
   "source": [
    "## Setup and data import"
   ]
  },
  {
   "cell_type": "code",
   "execution_count": 7,
   "metadata": {},
   "outputs": [],
   "source": [
    "def import_channel_graph():\n",
    "    # retrieve this by: lightning-cli listchannels > listchannels.json\n",
    "    f = open(\"listchannels.json\")\n",
    "    jsn = json.load(f)\n",
    "    G = nx.Graph()\n",
    "    for channel in jsn[\"channels\"]:\n",
    "        src = channel[\"source\"]\n",
    "        dest = channel[\"destination\"]\n",
    "        cap = int(channel[\"satoshis\"])\n",
    "        G.add_edge(src,dest,cap=cap)\n",
    "    return G\n",
    "\n",
    "channel_graph = import_channel_graph()"
   ]
  },
  {
   "cell_type": "code",
   "execution_count": 19,
   "metadata": {},
   "outputs": [],
   "source": [
    "def create_balanced_graph(channel_graph):\n",
    "    funded_network = nx.DiGraph()\n",
    "    for src,dest in channel_graph.edges():\n",
    "        cap = channel_graph[src][dest][\"cap\"]\n",
    "        bal = random.randint(0,cap)\n",
    "        funded_network.add_edge(src,dest,cap=cap,capacity=bal)\n",
    "        funded_network.add_edge(dest,src,cap=cap,capacity=cap-bal)\n",
    "    return funded_network\n",
    "    \n",
    "funded_network = create_balanced_graph(channel_graph)"
   ]
  },
  {
   "cell_type": "code",
   "execution_count": 24,
   "metadata": {},
   "outputs": [],
   "source": [
    "nodes = set(funded_network.nodes)"
   ]
  },
  {
   "cell_type": "markdown",
   "metadata": {},
   "source": [
    "## Experiment 1: Max Flow vs payment pairs local view: \n",
    "\n",
    "We assume a receiving node will not issue an invoice larger than the amount of satoshis it can theoretically receive. Similarly we assume a sending node will not try to pay an invoice if it does not have enough funds to do so. \n",
    "\n",
    "We want to see how ofter the maxflow is actually constrained by these two numbers given\n",
    "\n",
    "* the actual channelGraph with real capacities\n",
    "* a uniform distribution of balances (as measured before globally)"
   ]
  },
  {
   "cell_type": "code",
   "execution_count": 25,
   "metadata": {},
   "outputs": [],
   "source": [
    "def compute_inbound(funded_network,node): \n",
    "    res = 0\n",
    "    for n in funded_network.neighbors(node): \n",
    "        res += funded_network[n][node][\"capacity\"]\n",
    "    return res\n",
    "\n",
    "def compute_outbound(funded_network,node): \n",
    "    res = 0\n",
    "    for n in funded_network.neighbors(node): \n",
    "        res += funded_network[node][n][\"capacity\"]\n",
    "    return res\n"
   ]
  },
  {
   "cell_type": "code",
   "execution_count": 27,
   "metadata": {
    "scrolled": true
   },
   "outputs": [
    {
     "name": "stdout",
     "output_type": "stream",
     "text": [
      "03ab5de6f2 034c065b63 364321 364321 2692394\n",
      "031bfe85cc 027c4afa4b 63223 7651969 63223\n",
      "020e9d8a93 03829249ef 32424 32424 1908544\n",
      "02990c5471 02f39686dc 192916 288903 192916\n",
      "03118b8941 0328e82133 20948 20948 92159\n",
      "030e3685a9 02c4748d7a 24003 414783 24003\n",
      "03a6e8c14a 03a99bf1dc 248373 840327 248373\n",
      "02a84dc764 03ee7c5f9e 3490132 39186290 3490132\n",
      "02a789e722 022297edeb 67526 67526 38215857\n",
      "03589fff9f 032bfc44f5 274127 316136 46654247\n",
      "036386d314 03a065349c 59903 59903 70191\n",
      "0231802089 029f68cb5b 7550 19418181 7550\n",
      "0204a91bb5 02ec378c56 44698 18212796 44698\n",
      "03bd7009f1 0278e3f26e 91256 91256 274567\n",
      "02d558f5f7 02087384bb 45929 45929 146689\n",
      "031f624a7f 02357f2de8 207368 207368 404162\n",
      "037209d2cf 0353851855 84903 84903 597867\n",
      "03005b000a 03f259a190 22897 176458536 22897\n",
      "039c72f95b 020f8363ad 2464 147660 2464\n",
      "026b221b5b 02db6ff6cf 532453 4124436 532453\n",
      "03c7ef7eb3 0277b90db8 89420 89420 6926880\n",
      "03a80f74c0 02f765f7dc 31470 31470 235899\n",
      "03e3ae247e 02588bb45b 14440295 40093627 14440295\n",
      "032c9bab7b 03681493f4 197965 12021061 197965\n",
      "021846ed33 0211def948 11665 693578 11665\n",
      "025537b1ae 038dcdb207 413342 6675551 413342\n",
      "0384cbcc61 02a2d98fd3 303326 303326 497260\n",
      "028a2cb8d5 03b3b3353c 1384834 61581384 1384834\n",
      "0339e4b087 02b83fedcf 16208 16208 68073\n",
      "02960bca9e 02cac20d1b 83329 83329 1242561\n",
      "033ac45614 03e08816a3 466534 3118556 466534\n",
      "02bf3b1734 03e5cb2215 448756 448756 624512\n",
      "03a39309a8 023cc89e1c 55805 1087042 55805\n",
      "038bb5cbad 033155023f 1196166 1196166 18127612\n",
      "031e643c33 0353081d41 1129078 50187997 1129078\n",
      "020488a0aa 020d6c7f7a 24831 24831 1702560\n",
      "02ce976a16 0247883193 21551 21551 69533\n",
      "0239e4dc85 03268e7a40 325232 17355688 325232\n",
      "036e43d180 03709dbbd5 59196 11366682 59196\n",
      "031dc3559e 027a7a64ec 1787 1787 15017\n",
      "02498d1909 02181d2b6d 86154 86154 376803\n",
      "02566d4f3b 02d21c4174 97902 97902 925280\n",
      "03488475e5 02004111b6 3977 3977 38076\n",
      "03546c9329 0217a06be0 51520 6862803 51520\n",
      "03c844bac7 0214bfb767 1383781 9042031 1383781\n",
      "0232d32fec 03e87fb724 17808 17808 1951920\n",
      "02d5ebd338 0345087a13 8369922 21538205 8369922\n",
      "03c0e89b50 02f39686dc 192916 716780 192916\n",
      "03ad6cd751 023110bb9d 75539 2682881 75539\n",
      "0280e345b9 038889e299 53176 2326480 53176\n",
      "02b92193a4 03ec34cdaf 200732 951190 200732\n",
      "037e7d83e8 034a550b66 373478 373478 2200486\n",
      "020fd02422 031f1d5877 40180 814704 40180\n",
      "039b1e8092 03cbc091a7 13136624 74846747 13136624\n",
      "02f8cb4601 0379972fb4 41761 12949032 41761\n",
      "02b4726e4e 0391489a93 0 86176 37398322\n",
      "0251b2c9d2 03953a4726 65414 2016885 65414\n",
      "03916cd010 035b047ee1 60274 60274 334146\n",
      "03ce16b71f 024299fb14 66777 43814364 66777\n",
      "03b0dc872c 021709335e 19893 19893 5791744\n",
      "02158328d5 02d61e55ce 1454440 1454440 16495984\n",
      "02a9d7e775 029f55b974 30818 74776 30818\n",
      "024a2e265c 03a8174947 364956 54611019 364956\n",
      "02cb362551 029a5e5903 27975 262042 27975\n",
      "03788bab8b 0288a0319a 199281 246776 199281\n",
      "031d244a60 033593b63a 1066591 19239218 1066591\n",
      "023eb89fbd 02048d99cf 21954 21954 92529\n",
      "03d2a44997 037a468ae6 6977 15489156 6977\n",
      "021384cec8 022ea8bbf2 20393 83454 20393\n",
      "03e2c146b1 030064a7ec 4447 153128 4447\n",
      "03255e7809 032241f9cc 10808 7732122 10808\n",
      "03d10683dc 038f830214 31444 31444 8161402\n",
      "03b1be68b8 020458b6cd 17052 43851982 17052\n",
      "0224ad133d 03ac65823a 13554 13554 32584\n",
      "025f145658 02b9bf30f8 1111989 35343826 1111989\n",
      "033a9501ef 02a4ecae17 49965 49965 3665475\n",
      "03da2732d2 02ae9017a0 17886 299044 17886\n",
      "02c41b6e4a 02d45f9887 25935 25935 27715\n",
      "022fbf66d0 03b428ba4b 140307 140307 209741371\n",
      "03e1c1c6a4 0258113e6c 67590 273187 67590\n",
      "0270083896 03e5c215cd 95753 138557 95753\n",
      "0352b26519 03baa70886 252570 252570 1538514824\n",
      "02a78534c3 03ed34e7fa 49834 49834 116776\n",
      "02dfa0fc80 0293970421 22007 5602199 22007\n",
      "03e3f77e5e 0204a91bb5 374778 374778 13987315\n",
      "02922b7b29 02b17a64aa 4428 4428 40276\n",
      "0226d64517 02cb99408e 166723 166723 15957348\n",
      "031371bfd9 03c5afcb99 13564 18240766 13564\n",
      "026c0e3b89 03f15fc38f 51468 51468 48176099\n",
      "025f1458d1 02a62a5352 31343 114493228 31343\n",
      "0301322f09 0239a2cde4 18470 552554 18470\n",
      "0317c3e28d 0264c1c5c4 43967 43967 2464580\n",
      "02b289f931 03cea5f2b2 50700 2043613 50700\n",
      "0273c0c9d0 031cad9dce 11004 11004 3309328\n",
      "03beadf3df 039627555b 183778 184229 183778\n",
      "02cda8c01b 0249af5956 30943 25321262 30943\n",
      "03e8f81390 026e60ee36 38063 38063 98781\n",
      "0381a0ea5b 03e65542e1 2217 453141 2217\n",
      "025b8c2d1e 03ac3b362d 262910 412650 262910\n",
      "021718d0d7 037d56f737 509406 733661 509406\n",
      "[1.0, 1.0, 1.0, 1.0, 1.0, 1.0, 1.0, 1.0, 1.0, 0.8671173165979199, 1.0, 1.0, 1.0, 1.0, 1.0, 1.0, 1.0, 1.0, 1.0, 1.0, 1.0, 1.0, 1.0, 1.0, 1.0, 1.0, 1.0, 1.0, 1.0, 1.0, 1.0, 1.0, 1.0, 1.0, 1.0, 1.0, 1.0, 1.0, 1.0, 1.0, 1.0, 1.0, 1.0, 1.0, 1.0, 1.0, 1.0, 1.0, 1.0, 1.0, 1.0, 1.0, 1.0, 1.0, 1.0, 0.0, 1.0, 1.0, 1.0, 1.0, 1.0, 1.0, 1.0, 1.0, 1.0, 1.0, 1.0, 1.0, 1.0, 1.0, 1.0, 1.0, 1.0, 1.0, 1.0, 1.0, 1.0, 1.0, 1.0, 1.0, 1.0, 1.0, 1.0, 1.0, 1.0, 1.0, 1.0, 1.0, 1.0, 1.0, 1.0, 1.0, 1.0, 1.0, 1.0, 1.0, 1.0, 1.0, 1.0, 1.0]\n"
     ]
    }
   ],
   "source": [
    "res = []\n",
    "for i in range(100):\n",
    "    payment_pair = random.sample(nodes,2)\n",
    "    src, dest = payment_pair\n",
    "    cut_value, partition = nx.minimum_cut(funded_network, src, dest)\n",
    "    reachable, non_reachable = partition\n",
    "    outbound = compute_outbound(funded_network,src)\n",
    "    inbound = compute_inbound(funded_network, dest)\n",
    "    print(src[:10],dest[:10], cut_value, outbound, inbound)\n",
    "    lim = min(outbound,inbound)\n",
    "    res.append(cut_value/lim)\n",
    "print(res)"
   ]
  },
  {
   "cell_type": "markdown",
   "metadata": {},
   "source": [
    "## Experiment 2: optimal splitting ratio\n",
    "\n",
    "We want to emperically estimate the expected number of attempts needed for various splitting ratios. This is to test the hypothesis that an equidistant splitting for multipart payments works best"
   ]
  },
  {
   "cell_type": "code",
   "execution_count": 28,
   "metadata": {},
   "outputs": [],
   "source": [
    "## TODO next"
   ]
  },
  {
   "cell_type": "markdown",
   "metadata": {},
   "source": [
    "## Experiment 3: various splitting strategies\n",
    "\n",
    "we want to test at least three splitting strategies\n",
    "\n",
    "### Proposed greedy strategy: \n",
    "* compute the theoretic optimal split\n",
    "* send out onions\n",
    "* merge failed onions\n",
    "* update knowledge of the graph\n",
    "* repeat with the remaining amount\n",
    "\n",
    "## c-lightning split\n",
    "* do 10 attempts\n",
    "* split in half\n",
    "* repeat each half \n",
    "\n",
    "## Binary splitter\n",
    "* not clear how to implement"
   ]
  },
  {
   "cell_type": "code",
   "execution_count": null,
   "metadata": {},
   "outputs": [],
   "source": []
  }
 ],
 "metadata": {
  "kernelspec": {
   "display_name": "Python 3",
   "language": "python",
   "name": "python3"
  },
  "language_info": {
   "codemirror_mode": {
    "name": "ipython",
    "version": 3
   },
   "file_extension": ".py",
   "mimetype": "text/x-python",
   "name": "python",
   "nbconvert_exporter": "python",
   "pygments_lexer": "ipython3",
   "version": "3.6.10"
  }
 },
 "nbformat": 4,
 "nbformat_minor": 2
}
